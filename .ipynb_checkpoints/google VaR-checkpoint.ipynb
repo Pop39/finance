{
 "cells": [
  {
   "cell_type": "code",
   "execution_count": 1,
   "metadata": {},
   "outputs": [
    {
     "name": "stdout",
     "output_type": "stream",
     "text": [
      "Populating the interactive namespace from numpy and matplotlib\n"
     ]
    }
   ],
   "source": [
    "import yfinance as yf\n",
    "import pandas as pd \n",
    "import time\n",
    "import matplotlib.pyplot as plt  \n",
    "%matplotlib inline\n",
    "%pylab inline"
   ]
  },
  {
   "cell_type": "code",
   "execution_count": 8,
   "metadata": {},
   "outputs": [
    {
     "name": "stdout",
     "output_type": "stream",
     "text": [
      "[*********************100%***********************]  1 of 1 downloaded\n"
     ]
    }
   ],
   "source": [
    "data = yf.download(\"GOOLF\", start=\"2013-01-01\", end=\"2019-05-08\")\n",
    "data.fillna(method='bfill', inplace=True)"
   ]
  },
  {
   "cell_type": "code",
   "execution_count": 10,
   "metadata": {},
   "outputs": [
    {
     "data": {
      "text/plain": [
       "<bound method NDFrame.head of Date\n",
       "2019-01-22    0.1699\n",
       "2019-01-23    0.1699\n",
       "2019-01-24    0.1699\n",
       "2019-01-25    0.1699\n",
       "2019-01-28    0.1699\n",
       "2019-01-29    0.1699\n",
       "2019-01-30    0.1699\n",
       "2019-01-31    0.1699\n",
       "2019-02-01    0.2534\n",
       "2019-02-04    0.2534\n",
       "2019-02-05    0.2534\n",
       "2019-02-06    0.2534\n",
       "2019-02-07    0.2534\n",
       "2019-02-08    0.2534\n",
       "2019-02-11    0.2534\n",
       "2019-02-12    0.2534\n",
       "2019-02-13    0.2540\n",
       "2019-02-14    0.2540\n",
       "2019-02-15    0.2540\n",
       "2019-02-19    0.2540\n",
       "2019-02-20    0.2540\n",
       "2019-02-21    0.2540\n",
       "2019-02-22    0.2540\n",
       "2019-02-25    0.2540\n",
       "2019-02-26    0.2394\n",
       "2019-02-27    0.2295\n",
       "2019-02-28    0.2295\n",
       "2019-03-01    0.2295\n",
       "2019-03-04    0.3016\n",
       "2019-03-05    0.3016\n",
       "               ...  \n",
       "2019-03-26    0.3189\n",
       "2019-03-27    0.3189\n",
       "2019-03-28    0.3891\n",
       "2019-03-29    0.3772\n",
       "2019-04-01    0.3772\n",
       "2019-04-02    0.3772\n",
       "2019-04-03    0.3772\n",
       "2019-04-04    0.3772\n",
       "2019-04-05    0.3119\n",
       "2019-04-08    0.3119\n",
       "2019-04-09    0.2797\n",
       "2019-04-10    0.2535\n",
       "2019-04-11    0.2865\n",
       "2019-04-12    0.2865\n",
       "2019-04-15    0.2990\n",
       "2019-04-16    0.2990\n",
       "2019-04-17    0.2990\n",
       "2019-04-18    0.2990\n",
       "2019-04-22    0.2990\n",
       "2019-04-23    0.2990\n",
       "2019-04-24    0.2990\n",
       "2019-04-25    0.2990\n",
       "2019-04-26    0.2630\n",
       "2019-04-29    0.2630\n",
       "2019-04-30    0.2562\n",
       "2019-05-01    0.2562\n",
       "2019-05-02    0.2562\n",
       "2019-05-03    0.2509\n",
       "2019-05-06    0.2489\n",
       "2019-05-07    0.2489\n",
       "Name: Adj Close, Length: 74, dtype: float64>"
      ]
     },
     "execution_count": 10,
     "metadata": {},
     "output_type": "execute_result"
    }
   ],
   "source": [
    "data[\"Adj Close\"].head"
   ]
  },
  {
   "cell_type": "code",
   "execution_count": null,
   "metadata": {},
   "outputs": [],
   "source": []
  }
 ],
 "metadata": {
  "kernelspec": {
   "display_name": "Python 3",
   "language": "python",
   "name": "python3"
  },
  "language_info": {
   "codemirror_mode": {
    "name": "ipython",
    "version": 3
   },
   "file_extension": ".py",
   "mimetype": "text/x-python",
   "name": "python",
   "nbconvert_exporter": "python",
   "pygments_lexer": "ipython3",
   "version": "3.7.3"
  }
 },
 "nbformat": 4,
 "nbformat_minor": 2
}
